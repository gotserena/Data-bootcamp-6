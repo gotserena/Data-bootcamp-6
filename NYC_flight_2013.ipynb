{
  "nbformat": 4,
  "nbformat_minor": 0,
  "metadata": {
    "colab": {
      "provenance": [],
      "authorship_tag": "ABX9TyPkpcJLXuv8BYAe8ZpjFrKM",
      "include_colab_link": true
    },
    "kernelspec": {
      "name": "ir",
      "display_name": "R"
    },
    "language_info": {
      "name": "R"
    }
  },
  "cells": [
    {
      "cell_type": "markdown",
      "metadata": {
        "id": "view-in-github",
        "colab_type": "text"
      },
      "source": [
        "<a href=\"https://colab.research.google.com/github/gotserena/Data-bootcamp-6/blob/main/NYC_flight_2013.ipynb\" target=\"_parent\"><img src=\"https://colab.research.google.com/assets/colab-badge.svg\" alt=\"Open In Colab\"/></a>"
      ]
    },
    {
      "cell_type": "code",
      "source": [
        "install.packages(\"nycflights13\")"
      ],
      "metadata": {
        "colab": {
          "base_uri": "https://localhost:8080/"
        },
        "id": "zgyTf-lY9bxV",
        "outputId": "cb76a378-ca03-4513-f43a-bd6728f42e44"
      },
      "execution_count": null,
      "outputs": [
        {
          "output_type": "stream",
          "name": "stderr",
          "text": [
            "Installing package into ‘/usr/local/lib/R/site-library’\n",
            "(as ‘lib’ is unspecified)\n",
            "\n"
          ]
        }
      ]
    },
    {
      "cell_type": "code",
      "execution_count": null,
      "metadata": {
        "colab": {
          "base_uri": "https://localhost:8080/"
        },
        "id": "1HayS2Dl9Rsi",
        "outputId": "16c424a7-11ab-4f61-8a5f-0ebf9b6464ce"
      },
      "outputs": [
        {
          "output_type": "stream",
          "name": "stderr",
          "text": [
            "Warning message in system(\"timedatectl\", intern = TRUE):\n",
            "“running command 'timedatectl' had status 1”\n",
            "── \u001b[1mAttaching packages\u001b[22m ─────────────────────────────────────── tidyverse 1.3.1 ──\n",
            "\n",
            "\u001b[32m✔\u001b[39m \u001b[34mggplot2\u001b[39m 3.4.1     \u001b[32m✔\u001b[39m \u001b[34mpurrr  \u001b[39m 1.0.1\n",
            "\u001b[32m✔\u001b[39m \u001b[34mtibble \u001b[39m 3.1.8     \u001b[32m✔\u001b[39m \u001b[34mdplyr  \u001b[39m 1.1.0\n",
            "\u001b[32m✔\u001b[39m \u001b[34mtidyr  \u001b[39m 1.3.0     \u001b[32m✔\u001b[39m \u001b[34mstringr\u001b[39m 1.4.1\n",
            "\u001b[32m✔\u001b[39m \u001b[34mreadr  \u001b[39m 2.1.4     \u001b[32m✔\u001b[39m \u001b[34mforcats\u001b[39m 1.0.0\n",
            "\n",
            "── \u001b[1mConflicts\u001b[22m ────────────────────────────────────────── tidyverse_conflicts() ──\n",
            "\u001b[31m✖\u001b[39m \u001b[34mdplyr\u001b[39m::\u001b[32mfilter()\u001b[39m masks \u001b[34mstats\u001b[39m::filter()\n",
            "\u001b[31m✖\u001b[39m \u001b[34mdplyr\u001b[39m::\u001b[32mlag()\u001b[39m    masks \u001b[34mstats\u001b[39m::lag()\n",
            "\n"
          ]
        }
      ],
      "source": [
        "library(tidyverse)\n",
        "library(nycflights13)"
      ]
    },
    {
      "cell_type": "code",
      "source": [
        "glimpse(flights)\n",
        "glimpse(airlines)\n",
        "glimpse(airports)\n",
        "glimpse(planes)\n",
        "glimpse(weather)"
      ],
      "metadata": {
        "colab": {
          "base_uri": "https://localhost:8080/"
        },
        "id": "h7XSkLhb9iH2",
        "outputId": "b8955fe3-52b1-4858-c484-5315493e98bc"
      },
      "execution_count": null,
      "outputs": [
        {
          "output_type": "stream",
          "name": "stdout",
          "text": [
            "Rows: 336,776\n",
            "Columns: 19\n",
            "$ year           \u001b[3m\u001b[90m<int>\u001b[39m\u001b[23m 2013, 2013, 2013, 2013, 2013, 2013, 2013, 2013, 2013, 2…\n",
            "$ month          \u001b[3m\u001b[90m<int>\u001b[39m\u001b[23m 1, 1, 1, 1, 1, 1, 1, 1, 1, 1, 1, 1, 1, 1, 1, 1, 1, 1, 1…\n",
            "$ day            \u001b[3m\u001b[90m<int>\u001b[39m\u001b[23m 1, 1, 1, 1, 1, 1, 1, 1, 1, 1, 1, 1, 1, 1, 1, 1, 1, 1, 1…\n",
            "$ dep_time       \u001b[3m\u001b[90m<int>\u001b[39m\u001b[23m 517, 533, 542, 544, 554, 554, 555, 557, 557, 558, 558, …\n",
            "$ sched_dep_time \u001b[3m\u001b[90m<int>\u001b[39m\u001b[23m 515, 529, 540, 545, 600, 558, 600, 600, 600, 600, 600, …\n",
            "$ dep_delay      \u001b[3m\u001b[90m<dbl>\u001b[39m\u001b[23m 2, 4, 2, -1, -6, -4, -5, -3, -3, -2, -2, -2, -2, -2, -1…\n",
            "$ arr_time       \u001b[3m\u001b[90m<int>\u001b[39m\u001b[23m 830, 850, 923, 1004, 812, 740, 913, 709, 838, 753, 849,…\n",
            "$ sched_arr_time \u001b[3m\u001b[90m<int>\u001b[39m\u001b[23m 819, 830, 850, 1022, 837, 728, 854, 723, 846, 745, 851,…\n",
            "$ arr_delay      \u001b[3m\u001b[90m<dbl>\u001b[39m\u001b[23m 11, 20, 33, -18, -25, 12, 19, -14, -8, 8, -2, -3, 7, -1…\n",
            "$ carrier        \u001b[3m\u001b[90m<chr>\u001b[39m\u001b[23m \"UA\", \"UA\", \"AA\", \"B6\", \"DL\", \"UA\", \"B6\", \"EV\", \"B6\", \"…\n",
            "$ flight         \u001b[3m\u001b[90m<int>\u001b[39m\u001b[23m 1545, 1714, 1141, 725, 461, 1696, 507, 5708, 79, 301, 4…\n",
            "$ tailnum        \u001b[3m\u001b[90m<chr>\u001b[39m\u001b[23m \"N14228\", \"N24211\", \"N619AA\", \"N804JB\", \"N668DN\", \"N394…\n",
            "$ origin         \u001b[3m\u001b[90m<chr>\u001b[39m\u001b[23m \"EWR\", \"LGA\", \"JFK\", \"JFK\", \"LGA\", \"EWR\", \"EWR\", \"LGA\",…\n",
            "$ dest           \u001b[3m\u001b[90m<chr>\u001b[39m\u001b[23m \"IAH\", \"IAH\", \"MIA\", \"BQN\", \"ATL\", \"ORD\", \"FLL\", \"IAD\",…\n",
            "$ air_time       \u001b[3m\u001b[90m<dbl>\u001b[39m\u001b[23m 227, 227, 160, 183, 116, 150, 158, 53, 140, 138, 149, 1…\n",
            "$ distance       \u001b[3m\u001b[90m<dbl>\u001b[39m\u001b[23m 1400, 1416, 1089, 1576, 762, 719, 1065, 229, 944, 733, …\n",
            "$ hour           \u001b[3m\u001b[90m<dbl>\u001b[39m\u001b[23m 5, 5, 5, 5, 6, 5, 6, 6, 6, 6, 6, 6, 6, 6, 6, 5, 6, 6, 6…\n",
            "$ minute         \u001b[3m\u001b[90m<dbl>\u001b[39m\u001b[23m 15, 29, 40, 45, 0, 58, 0, 0, 0, 0, 0, 0, 0, 0, 0, 59, 0…\n",
            "$ time_hour      \u001b[3m\u001b[90m<dttm>\u001b[39m\u001b[23m 2013-01-01 05:00:00, 2013-01-01 05:00:00, 2013-01-01 0…\n",
            "Rows: 16\n",
            "Columns: 2\n",
            "$ carrier \u001b[3m\u001b[90m<chr>\u001b[39m\u001b[23m \"9E\", \"AA\", \"AS\", \"B6\", \"DL\", \"EV\", \"F9\", \"FL\", \"HA\", \"MQ\", \"O…\n",
            "$ name    \u001b[3m\u001b[90m<chr>\u001b[39m\u001b[23m \"Endeavor Air Inc.\", \"American Airlines Inc.\", \"Alaska Airline…\n",
            "Rows: 1,458\n",
            "Columns: 8\n",
            "$ faa   \u001b[3m\u001b[90m<chr>\u001b[39m\u001b[23m \"04G\", \"06A\", \"06C\", \"06N\", \"09J\", \"0A9\", \"0G6\", \"0G7\", \"0P2\", \"…\n",
            "$ name  \u001b[3m\u001b[90m<chr>\u001b[39m\u001b[23m \"Lansdowne Airport\", \"Moton Field Municipal Airport\", \"Schaumbur…\n",
            "$ lat   \u001b[3m\u001b[90m<dbl>\u001b[39m\u001b[23m 41.13047, 32.46057, 41.98934, 41.43191, 31.07447, 36.37122, 41.4…\n",
            "$ lon   \u001b[3m\u001b[90m<dbl>\u001b[39m\u001b[23m -80.61958, -85.68003, -88.10124, -74.39156, -81.42778, -82.17342…\n",
            "$ alt   \u001b[3m\u001b[90m<dbl>\u001b[39m\u001b[23m 1044, 264, 801, 523, 11, 1593, 730, 492, 1000, 108, 409, 875, 10…\n",
            "$ tz    \u001b[3m\u001b[90m<dbl>\u001b[39m\u001b[23m -5, -6, -6, -5, -5, -5, -5, -5, -5, -8, -5, -6, -5, -5, -5, -5, …\n",
            "$ dst   \u001b[3m\u001b[90m<chr>\u001b[39m\u001b[23m \"A\", \"A\", \"A\", \"A\", \"A\", \"A\", \"A\", \"A\", \"U\", \"A\", \"A\", \"U\", \"A\",…\n",
            "$ tzone \u001b[3m\u001b[90m<chr>\u001b[39m\u001b[23m \"America/New_York\", \"America/Chicago\", \"America/Chicago\", \"Ameri…\n",
            "Rows: 3,322\n",
            "Columns: 9\n",
            "$ tailnum      \u001b[3m\u001b[90m<chr>\u001b[39m\u001b[23m \"N10156\", \"N102UW\", \"N103US\", \"N104UW\", \"N10575\", \"N105UW…\n",
            "$ year         \u001b[3m\u001b[90m<int>\u001b[39m\u001b[23m 2004, 1998, 1999, 1999, 2002, 1999, 1999, 1999, 1999, 199…\n",
            "$ type         \u001b[3m\u001b[90m<chr>\u001b[39m\u001b[23m \"Fixed wing multi engine\", \"Fixed wing multi engine\", \"Fi…\n",
            "$ manufacturer \u001b[3m\u001b[90m<chr>\u001b[39m\u001b[23m \"EMBRAER\", \"AIRBUS INDUSTRIE\", \"AIRBUS INDUSTRIE\", \"AIRBU…\n",
            "$ model        \u001b[3m\u001b[90m<chr>\u001b[39m\u001b[23m \"EMB-145XR\", \"A320-214\", \"A320-214\", \"A320-214\", \"EMB-145…\n",
            "$ engines      \u001b[3m\u001b[90m<int>\u001b[39m\u001b[23m 2, 2, 2, 2, 2, 2, 2, 2, 2, 2, 2, 2, 2, 2, 2, 2, 2, 2, 2, …\n",
            "$ seats        \u001b[3m\u001b[90m<int>\u001b[39m\u001b[23m 55, 182, 182, 182, 55, 182, 182, 182, 182, 182, 55, 55, 5…\n",
            "$ speed        \u001b[3m\u001b[90m<int>\u001b[39m\u001b[23m NA, NA, NA, NA, NA, NA, NA, NA, NA, NA, NA, NA, NA, NA, N…\n",
            "$ engine       \u001b[3m\u001b[90m<chr>\u001b[39m\u001b[23m \"Turbo-fan\", \"Turbo-fan\", \"Turbo-fan\", \"Turbo-fan\", \"Turb…\n",
            "Rows: 26,115\n",
            "Columns: 15\n",
            "$ origin     \u001b[3m\u001b[90m<chr>\u001b[39m\u001b[23m \"EWR\", \"EWR\", \"EWR\", \"EWR\", \"EWR\", \"EWR\", \"EWR\", \"EWR\", \"EW…\n",
            "$ year       \u001b[3m\u001b[90m<int>\u001b[39m\u001b[23m 2013, 2013, 2013, 2013, 2013, 2013, 2013, 2013, 2013, 2013,…\n",
            "$ month      \u001b[3m\u001b[90m<int>\u001b[39m\u001b[23m 1, 1, 1, 1, 1, 1, 1, 1, 1, 1, 1, 1, 1, 1, 1, 1, 1, 1, 1, 1,…\n",
            "$ day        \u001b[3m\u001b[90m<int>\u001b[39m\u001b[23m 1, 1, 1, 1, 1, 1, 1, 1, 1, 1, 1, 1, 1, 1, 1, 1, 1, 1, 1, 1,…\n",
            "$ hour       \u001b[3m\u001b[90m<int>\u001b[39m\u001b[23m 1, 2, 3, 4, 5, 6, 7, 8, 9, 10, 11, 13, 14, 15, 16, 17, 18, …\n",
            "$ temp       \u001b[3m\u001b[90m<dbl>\u001b[39m\u001b[23m 39.02, 39.02, 39.02, 39.92, 39.02, 37.94, 39.02, 39.92, 39.…\n",
            "$ dewp       \u001b[3m\u001b[90m<dbl>\u001b[39m\u001b[23m 26.06, 26.96, 28.04, 28.04, 28.04, 28.04, 28.04, 28.04, 28.…\n",
            "$ humid      \u001b[3m\u001b[90m<dbl>\u001b[39m\u001b[23m 59.37, 61.63, 64.43, 62.21, 64.43, 67.21, 64.43, 62.21, 62.…\n",
            "$ wind_dir   \u001b[3m\u001b[90m<dbl>\u001b[39m\u001b[23m 270, 250, 240, 250, 260, 240, 240, 250, 260, 260, 260, 330,…\n",
            "$ wind_speed \u001b[3m\u001b[90m<dbl>\u001b[39m\u001b[23m 10.35702, 8.05546, 11.50780, 12.65858, 12.65858, 11.50780, …\n",
            "$ wind_gust  \u001b[3m\u001b[90m<dbl>\u001b[39m\u001b[23m NA, NA, NA, NA, NA, NA, NA, NA, NA, NA, NA, NA, NA, NA, 20.…\n",
            "$ precip     \u001b[3m\u001b[90m<dbl>\u001b[39m\u001b[23m 0, 0, 0, 0, 0, 0, 0, 0, 0, 0, 0, 0, 0, 0, 0, 0, 0, 0, 0, 0,…\n",
            "$ pressure   \u001b[3m\u001b[90m<dbl>\u001b[39m\u001b[23m 1012.0, 1012.3, 1012.5, 1012.2, 1011.9, 1012.4, 1012.2, 101…\n",
            "$ visib      \u001b[3m\u001b[90m<dbl>\u001b[39m\u001b[23m 10, 10, 10, 10, 10, 10, 10, 10, 10, 10, 10, 10, 10, 10, 10,…\n",
            "$ time_hour  \u001b[3m\u001b[90m<dttm>\u001b[39m\u001b[23m 2013-01-01 01:00:00, 2013-01-01 02:00:00, 2013-01-01 03:00…\n"
          ]
        }
      ]
    },
    {
      "cell_type": "code",
      "source": [
        "head(flights)\n",
        "head(airlines)\n",
        "head(airports)\n",
        "head(planes)\n",
        "head(weather)"
      ],
      "metadata": {
        "colab": {
          "base_uri": "https://localhost:8080/",
          "height": 1000
        },
        "id": "S7gsSVNQ9wqC",
        "outputId": "70b2d4e2-6769-4692-8c5c-aee45ce84201"
      },
      "execution_count": null,
      "outputs": [
        {
          "output_type": "display_data",
          "data": {
            "text/html": [
              "<table class=\"dataframe\">\n",
              "<caption>A tibble: 6 × 19</caption>\n",
              "<thead>\n",
              "\t<tr><th scope=col>year</th><th scope=col>month</th><th scope=col>day</th><th scope=col>dep_time</th><th scope=col>sched_dep_time</th><th scope=col>dep_delay</th><th scope=col>arr_time</th><th scope=col>sched_arr_time</th><th scope=col>arr_delay</th><th scope=col>carrier</th><th scope=col>flight</th><th scope=col>tailnum</th><th scope=col>origin</th><th scope=col>dest</th><th scope=col>air_time</th><th scope=col>distance</th><th scope=col>hour</th><th scope=col>minute</th><th scope=col>time_hour</th></tr>\n",
              "\t<tr><th scope=col>&lt;int&gt;</th><th scope=col>&lt;int&gt;</th><th scope=col>&lt;int&gt;</th><th scope=col>&lt;int&gt;</th><th scope=col>&lt;int&gt;</th><th scope=col>&lt;dbl&gt;</th><th scope=col>&lt;int&gt;</th><th scope=col>&lt;int&gt;</th><th scope=col>&lt;dbl&gt;</th><th scope=col>&lt;chr&gt;</th><th scope=col>&lt;int&gt;</th><th scope=col>&lt;chr&gt;</th><th scope=col>&lt;chr&gt;</th><th scope=col>&lt;chr&gt;</th><th scope=col>&lt;dbl&gt;</th><th scope=col>&lt;dbl&gt;</th><th scope=col>&lt;dbl&gt;</th><th scope=col>&lt;dbl&gt;</th><th scope=col>&lt;dttm&gt;</th></tr>\n",
              "</thead>\n",
              "<tbody>\n",
              "\t<tr><td>2013</td><td>1</td><td>1</td><td>517</td><td>515</td><td> 2</td><td> 830</td><td> 819</td><td> 11</td><td>UA</td><td>1545</td><td>N14228</td><td>EWR</td><td>IAH</td><td>227</td><td>1400</td><td>5</td><td>15</td><td>2013-01-01 05:00:00</td></tr>\n",
              "\t<tr><td>2013</td><td>1</td><td>1</td><td>533</td><td>529</td><td> 4</td><td> 850</td><td> 830</td><td> 20</td><td>UA</td><td>1714</td><td>N24211</td><td>LGA</td><td>IAH</td><td>227</td><td>1416</td><td>5</td><td>29</td><td>2013-01-01 05:00:00</td></tr>\n",
              "\t<tr><td>2013</td><td>1</td><td>1</td><td>542</td><td>540</td><td> 2</td><td> 923</td><td> 850</td><td> 33</td><td>AA</td><td>1141</td><td>N619AA</td><td>JFK</td><td>MIA</td><td>160</td><td>1089</td><td>5</td><td>40</td><td>2013-01-01 05:00:00</td></tr>\n",
              "\t<tr><td>2013</td><td>1</td><td>1</td><td>544</td><td>545</td><td>-1</td><td>1004</td><td>1022</td><td>-18</td><td>B6</td><td> 725</td><td>N804JB</td><td>JFK</td><td>BQN</td><td>183</td><td>1576</td><td>5</td><td>45</td><td>2013-01-01 05:00:00</td></tr>\n",
              "\t<tr><td>2013</td><td>1</td><td>1</td><td>554</td><td>600</td><td>-6</td><td> 812</td><td> 837</td><td>-25</td><td>DL</td><td> 461</td><td>N668DN</td><td>LGA</td><td>ATL</td><td>116</td><td> 762</td><td>6</td><td> 0</td><td>2013-01-01 06:00:00</td></tr>\n",
              "\t<tr><td>2013</td><td>1</td><td>1</td><td>554</td><td>558</td><td>-4</td><td> 740</td><td> 728</td><td> 12</td><td>UA</td><td>1696</td><td>N39463</td><td>EWR</td><td>ORD</td><td>150</td><td> 719</td><td>5</td><td>58</td><td>2013-01-01 05:00:00</td></tr>\n",
              "</tbody>\n",
              "</table>\n"
            ],
            "text/markdown": "\nA tibble: 6 × 19\n\n| year &lt;int&gt; | month &lt;int&gt; | day &lt;int&gt; | dep_time &lt;int&gt; | sched_dep_time &lt;int&gt; | dep_delay &lt;dbl&gt; | arr_time &lt;int&gt; | sched_arr_time &lt;int&gt; | arr_delay &lt;dbl&gt; | carrier &lt;chr&gt; | flight &lt;int&gt; | tailnum &lt;chr&gt; | origin &lt;chr&gt; | dest &lt;chr&gt; | air_time &lt;dbl&gt; | distance &lt;dbl&gt; | hour &lt;dbl&gt; | minute &lt;dbl&gt; | time_hour &lt;dttm&gt; |\n|---|---|---|---|---|---|---|---|---|---|---|---|---|---|---|---|---|---|---|\n| 2013 | 1 | 1 | 517 | 515 |  2 |  830 |  819 |  11 | UA | 1545 | N14228 | EWR | IAH | 227 | 1400 | 5 | 15 | 2013-01-01 05:00:00 |\n| 2013 | 1 | 1 | 533 | 529 |  4 |  850 |  830 |  20 | UA | 1714 | N24211 | LGA | IAH | 227 | 1416 | 5 | 29 | 2013-01-01 05:00:00 |\n| 2013 | 1 | 1 | 542 | 540 |  2 |  923 |  850 |  33 | AA | 1141 | N619AA | JFK | MIA | 160 | 1089 | 5 | 40 | 2013-01-01 05:00:00 |\n| 2013 | 1 | 1 | 544 | 545 | -1 | 1004 | 1022 | -18 | B6 |  725 | N804JB | JFK | BQN | 183 | 1576 | 5 | 45 | 2013-01-01 05:00:00 |\n| 2013 | 1 | 1 | 554 | 600 | -6 |  812 |  837 | -25 | DL |  461 | N668DN | LGA | ATL | 116 |  762 | 6 |  0 | 2013-01-01 06:00:00 |\n| 2013 | 1 | 1 | 554 | 558 | -4 |  740 |  728 |  12 | UA | 1696 | N39463 | EWR | ORD | 150 |  719 | 5 | 58 | 2013-01-01 05:00:00 |\n\n",
            "text/latex": "A tibble: 6 × 19\n\\begin{tabular}{lllllllllllllllllll}\n year & month & day & dep\\_time & sched\\_dep\\_time & dep\\_delay & arr\\_time & sched\\_arr\\_time & arr\\_delay & carrier & flight & tailnum & origin & dest & air\\_time & distance & hour & minute & time\\_hour\\\\\n <int> & <int> & <int> & <int> & <int> & <dbl> & <int> & <int> & <dbl> & <chr> & <int> & <chr> & <chr> & <chr> & <dbl> & <dbl> & <dbl> & <dbl> & <dttm>\\\\\n\\hline\n\t 2013 & 1 & 1 & 517 & 515 &  2 &  830 &  819 &  11 & UA & 1545 & N14228 & EWR & IAH & 227 & 1400 & 5 & 15 & 2013-01-01 05:00:00\\\\\n\t 2013 & 1 & 1 & 533 & 529 &  4 &  850 &  830 &  20 & UA & 1714 & N24211 & LGA & IAH & 227 & 1416 & 5 & 29 & 2013-01-01 05:00:00\\\\\n\t 2013 & 1 & 1 & 542 & 540 &  2 &  923 &  850 &  33 & AA & 1141 & N619AA & JFK & MIA & 160 & 1089 & 5 & 40 & 2013-01-01 05:00:00\\\\\n\t 2013 & 1 & 1 & 544 & 545 & -1 & 1004 & 1022 & -18 & B6 &  725 & N804JB & JFK & BQN & 183 & 1576 & 5 & 45 & 2013-01-01 05:00:00\\\\\n\t 2013 & 1 & 1 & 554 & 600 & -6 &  812 &  837 & -25 & DL &  461 & N668DN & LGA & ATL & 116 &  762 & 6 &  0 & 2013-01-01 06:00:00\\\\\n\t 2013 & 1 & 1 & 554 & 558 & -4 &  740 &  728 &  12 & UA & 1696 & N39463 & EWR & ORD & 150 &  719 & 5 & 58 & 2013-01-01 05:00:00\\\\\n\\end{tabular}\n",
            "text/plain": [
              "  year month day dep_time sched_dep_time dep_delay arr_time sched_arr_time\n",
              "1 2013 1     1   517      515             2         830      819          \n",
              "2 2013 1     1   533      529             4         850      830          \n",
              "3 2013 1     1   542      540             2         923      850          \n",
              "4 2013 1     1   544      545            -1        1004     1022          \n",
              "5 2013 1     1   554      600            -6         812      837          \n",
              "6 2013 1     1   554      558            -4         740      728          \n",
              "  arr_delay carrier flight tailnum origin dest air_time distance hour minute\n",
              "1  11       UA      1545   N14228  EWR    IAH  227      1400     5    15    \n",
              "2  20       UA      1714   N24211  LGA    IAH  227      1416     5    29    \n",
              "3  33       AA      1141   N619AA  JFK    MIA  160      1089     5    40    \n",
              "4 -18       B6       725   N804JB  JFK    BQN  183      1576     5    45    \n",
              "5 -25       DL       461   N668DN  LGA    ATL  116       762     6     0    \n",
              "6  12       UA      1696   N39463  EWR    ORD  150       719     5    58    \n",
              "  time_hour          \n",
              "1 2013-01-01 05:00:00\n",
              "2 2013-01-01 05:00:00\n",
              "3 2013-01-01 05:00:00\n",
              "4 2013-01-01 05:00:00\n",
              "5 2013-01-01 06:00:00\n",
              "6 2013-01-01 05:00:00"
            ]
          },
          "metadata": {}
        },
        {
          "output_type": "display_data",
          "data": {
            "text/html": [
              "<table class=\"dataframe\">\n",
              "<caption>A tibble: 6 × 2</caption>\n",
              "<thead>\n",
              "\t<tr><th scope=col>carrier</th><th scope=col>name</th></tr>\n",
              "\t<tr><th scope=col>&lt;chr&gt;</th><th scope=col>&lt;chr&gt;</th></tr>\n",
              "</thead>\n",
              "<tbody>\n",
              "\t<tr><td>9E</td><td>Endeavor Air Inc.       </td></tr>\n",
              "\t<tr><td>AA</td><td>American Airlines Inc.  </td></tr>\n",
              "\t<tr><td>AS</td><td>Alaska Airlines Inc.    </td></tr>\n",
              "\t<tr><td>B6</td><td>JetBlue Airways         </td></tr>\n",
              "\t<tr><td>DL</td><td>Delta Air Lines Inc.    </td></tr>\n",
              "\t<tr><td>EV</td><td>ExpressJet Airlines Inc.</td></tr>\n",
              "</tbody>\n",
              "</table>\n"
            ],
            "text/markdown": "\nA tibble: 6 × 2\n\n| carrier &lt;chr&gt; | name &lt;chr&gt; |\n|---|---|\n| 9E | Endeavor Air Inc.        |\n| AA | American Airlines Inc.   |\n| AS | Alaska Airlines Inc.     |\n| B6 | JetBlue Airways          |\n| DL | Delta Air Lines Inc.     |\n| EV | ExpressJet Airlines Inc. |\n\n",
            "text/latex": "A tibble: 6 × 2\n\\begin{tabular}{ll}\n carrier & name\\\\\n <chr> & <chr>\\\\\n\\hline\n\t 9E & Endeavor Air Inc.       \\\\\n\t AA & American Airlines Inc.  \\\\\n\t AS & Alaska Airlines Inc.    \\\\\n\t B6 & JetBlue Airways         \\\\\n\t DL & Delta Air Lines Inc.    \\\\\n\t EV & ExpressJet Airlines Inc.\\\\\n\\end{tabular}\n",
            "text/plain": [
              "  carrier name                    \n",
              "1 9E      Endeavor Air Inc.       \n",
              "2 AA      American Airlines Inc.  \n",
              "3 AS      Alaska Airlines Inc.    \n",
              "4 B6      JetBlue Airways         \n",
              "5 DL      Delta Air Lines Inc.    \n",
              "6 EV      ExpressJet Airlines Inc."
            ]
          },
          "metadata": {}
        },
        {
          "output_type": "display_data",
          "data": {
            "text/html": [
              "<table class=\"dataframe\">\n",
              "<caption>A tibble: 6 × 8</caption>\n",
              "<thead>\n",
              "\t<tr><th scope=col>faa</th><th scope=col>name</th><th scope=col>lat</th><th scope=col>lon</th><th scope=col>alt</th><th scope=col>tz</th><th scope=col>dst</th><th scope=col>tzone</th></tr>\n",
              "\t<tr><th scope=col>&lt;chr&gt;</th><th scope=col>&lt;chr&gt;</th><th scope=col>&lt;dbl&gt;</th><th scope=col>&lt;dbl&gt;</th><th scope=col>&lt;dbl&gt;</th><th scope=col>&lt;dbl&gt;</th><th scope=col>&lt;chr&gt;</th><th scope=col>&lt;chr&gt;</th></tr>\n",
              "</thead>\n",
              "<tbody>\n",
              "\t<tr><td>04G</td><td>Lansdowne Airport             </td><td>41.13047</td><td>-80.61958</td><td>1044</td><td>-5</td><td>A</td><td>America/New_York</td></tr>\n",
              "\t<tr><td>06A</td><td>Moton Field Municipal Airport </td><td>32.46057</td><td>-85.68003</td><td> 264</td><td>-6</td><td>A</td><td>America/Chicago </td></tr>\n",
              "\t<tr><td>06C</td><td>Schaumburg Regional           </td><td>41.98934</td><td>-88.10124</td><td> 801</td><td>-6</td><td>A</td><td>America/Chicago </td></tr>\n",
              "\t<tr><td>06N</td><td>Randall Airport               </td><td>41.43191</td><td>-74.39156</td><td> 523</td><td>-5</td><td>A</td><td>America/New_York</td></tr>\n",
              "\t<tr><td>09J</td><td>Jekyll Island Airport         </td><td>31.07447</td><td>-81.42778</td><td>  11</td><td>-5</td><td>A</td><td>America/New_York</td></tr>\n",
              "\t<tr><td>0A9</td><td>Elizabethton Municipal Airport</td><td>36.37122</td><td>-82.17342</td><td>1593</td><td>-5</td><td>A</td><td>America/New_York</td></tr>\n",
              "</tbody>\n",
              "</table>\n"
            ],
            "text/markdown": "\nA tibble: 6 × 8\n\n| faa &lt;chr&gt; | name &lt;chr&gt; | lat &lt;dbl&gt; | lon &lt;dbl&gt; | alt &lt;dbl&gt; | tz &lt;dbl&gt; | dst &lt;chr&gt; | tzone &lt;chr&gt; |\n|---|---|---|---|---|---|---|---|\n| 04G | Lansdowne Airport              | 41.13047 | -80.61958 | 1044 | -5 | A | America/New_York |\n| 06A | Moton Field Municipal Airport  | 32.46057 | -85.68003 |  264 | -6 | A | America/Chicago  |\n| 06C | Schaumburg Regional            | 41.98934 | -88.10124 |  801 | -6 | A | America/Chicago  |\n| 06N | Randall Airport                | 41.43191 | -74.39156 |  523 | -5 | A | America/New_York |\n| 09J | Jekyll Island Airport          | 31.07447 | -81.42778 |   11 | -5 | A | America/New_York |\n| 0A9 | Elizabethton Municipal Airport | 36.37122 | -82.17342 | 1593 | -5 | A | America/New_York |\n\n",
            "text/latex": "A tibble: 6 × 8\n\\begin{tabular}{llllllll}\n faa & name & lat & lon & alt & tz & dst & tzone\\\\\n <chr> & <chr> & <dbl> & <dbl> & <dbl> & <dbl> & <chr> & <chr>\\\\\n\\hline\n\t 04G & Lansdowne Airport              & 41.13047 & -80.61958 & 1044 & -5 & A & America/New\\_York\\\\\n\t 06A & Moton Field Municipal Airport  & 32.46057 & -85.68003 &  264 & -6 & A & America/Chicago \\\\\n\t 06C & Schaumburg Regional            & 41.98934 & -88.10124 &  801 & -6 & A & America/Chicago \\\\\n\t 06N & Randall Airport                & 41.43191 & -74.39156 &  523 & -5 & A & America/New\\_York\\\\\n\t 09J & Jekyll Island Airport          & 31.07447 & -81.42778 &   11 & -5 & A & America/New\\_York\\\\\n\t 0A9 & Elizabethton Municipal Airport & 36.37122 & -82.17342 & 1593 & -5 & A & America/New\\_York\\\\\n\\end{tabular}\n",
            "text/plain": [
              "  faa name                           lat      lon       alt  tz dst\n",
              "1 04G Lansdowne Airport              41.13047 -80.61958 1044 -5 A  \n",
              "2 06A Moton Field Municipal Airport  32.46057 -85.68003  264 -6 A  \n",
              "3 06C Schaumburg Regional            41.98934 -88.10124  801 -6 A  \n",
              "4 06N Randall Airport                41.43191 -74.39156  523 -5 A  \n",
              "5 09J Jekyll Island Airport          31.07447 -81.42778   11 -5 A  \n",
              "6 0A9 Elizabethton Municipal Airport 36.37122 -82.17342 1593 -5 A  \n",
              "  tzone           \n",
              "1 America/New_York\n",
              "2 America/Chicago \n",
              "3 America/Chicago \n",
              "4 America/New_York\n",
              "5 America/New_York\n",
              "6 America/New_York"
            ]
          },
          "metadata": {}
        },
        {
          "output_type": "display_data",
          "data": {
            "text/html": [
              "<table class=\"dataframe\">\n",
              "<caption>A tibble: 6 × 9</caption>\n",
              "<thead>\n",
              "\t<tr><th scope=col>tailnum</th><th scope=col>year</th><th scope=col>type</th><th scope=col>manufacturer</th><th scope=col>model</th><th scope=col>engines</th><th scope=col>seats</th><th scope=col>speed</th><th scope=col>engine</th></tr>\n",
              "\t<tr><th scope=col>&lt;chr&gt;</th><th scope=col>&lt;int&gt;</th><th scope=col>&lt;chr&gt;</th><th scope=col>&lt;chr&gt;</th><th scope=col>&lt;chr&gt;</th><th scope=col>&lt;int&gt;</th><th scope=col>&lt;int&gt;</th><th scope=col>&lt;int&gt;</th><th scope=col>&lt;chr&gt;</th></tr>\n",
              "</thead>\n",
              "<tbody>\n",
              "\t<tr><td>N10156</td><td>2004</td><td>Fixed wing multi engine</td><td>EMBRAER         </td><td>EMB-145XR</td><td>2</td><td> 55</td><td>NA</td><td>Turbo-fan</td></tr>\n",
              "\t<tr><td>N102UW</td><td>1998</td><td>Fixed wing multi engine</td><td>AIRBUS INDUSTRIE</td><td>A320-214 </td><td>2</td><td>182</td><td>NA</td><td>Turbo-fan</td></tr>\n",
              "\t<tr><td>N103US</td><td>1999</td><td>Fixed wing multi engine</td><td>AIRBUS INDUSTRIE</td><td>A320-214 </td><td>2</td><td>182</td><td>NA</td><td>Turbo-fan</td></tr>\n",
              "\t<tr><td>N104UW</td><td>1999</td><td>Fixed wing multi engine</td><td>AIRBUS INDUSTRIE</td><td>A320-214 </td><td>2</td><td>182</td><td>NA</td><td>Turbo-fan</td></tr>\n",
              "\t<tr><td>N10575</td><td>2002</td><td>Fixed wing multi engine</td><td>EMBRAER         </td><td>EMB-145LR</td><td>2</td><td> 55</td><td>NA</td><td>Turbo-fan</td></tr>\n",
              "\t<tr><td>N105UW</td><td>1999</td><td>Fixed wing multi engine</td><td>AIRBUS INDUSTRIE</td><td>A320-214 </td><td>2</td><td>182</td><td>NA</td><td>Turbo-fan</td></tr>\n",
              "</tbody>\n",
              "</table>\n"
            ],
            "text/markdown": "\nA tibble: 6 × 9\n\n| tailnum &lt;chr&gt; | year &lt;int&gt; | type &lt;chr&gt; | manufacturer &lt;chr&gt; | model &lt;chr&gt; | engines &lt;int&gt; | seats &lt;int&gt; | speed &lt;int&gt; | engine &lt;chr&gt; |\n|---|---|---|---|---|---|---|---|---|\n| N10156 | 2004 | Fixed wing multi engine | EMBRAER          | EMB-145XR | 2 |  55 | NA | Turbo-fan |\n| N102UW | 1998 | Fixed wing multi engine | AIRBUS INDUSTRIE | A320-214  | 2 | 182 | NA | Turbo-fan |\n| N103US | 1999 | Fixed wing multi engine | AIRBUS INDUSTRIE | A320-214  | 2 | 182 | NA | Turbo-fan |\n| N104UW | 1999 | Fixed wing multi engine | AIRBUS INDUSTRIE | A320-214  | 2 | 182 | NA | Turbo-fan |\n| N10575 | 2002 | Fixed wing multi engine | EMBRAER          | EMB-145LR | 2 |  55 | NA | Turbo-fan |\n| N105UW | 1999 | Fixed wing multi engine | AIRBUS INDUSTRIE | A320-214  | 2 | 182 | NA | Turbo-fan |\n\n",
            "text/latex": "A tibble: 6 × 9\n\\begin{tabular}{lllllllll}\n tailnum & year & type & manufacturer & model & engines & seats & speed & engine\\\\\n <chr> & <int> & <chr> & <chr> & <chr> & <int> & <int> & <int> & <chr>\\\\\n\\hline\n\t N10156 & 2004 & Fixed wing multi engine & EMBRAER          & EMB-145XR & 2 &  55 & NA & Turbo-fan\\\\\n\t N102UW & 1998 & Fixed wing multi engine & AIRBUS INDUSTRIE & A320-214  & 2 & 182 & NA & Turbo-fan\\\\\n\t N103US & 1999 & Fixed wing multi engine & AIRBUS INDUSTRIE & A320-214  & 2 & 182 & NA & Turbo-fan\\\\\n\t N104UW & 1999 & Fixed wing multi engine & AIRBUS INDUSTRIE & A320-214  & 2 & 182 & NA & Turbo-fan\\\\\n\t N10575 & 2002 & Fixed wing multi engine & EMBRAER          & EMB-145LR & 2 &  55 & NA & Turbo-fan\\\\\n\t N105UW & 1999 & Fixed wing multi engine & AIRBUS INDUSTRIE & A320-214  & 2 & 182 & NA & Turbo-fan\\\\\n\\end{tabular}\n",
            "text/plain": [
              "  tailnum year type                    manufacturer     model     engines seats\n",
              "1 N10156  2004 Fixed wing multi engine EMBRAER          EMB-145XR 2        55  \n",
              "2 N102UW  1998 Fixed wing multi engine AIRBUS INDUSTRIE A320-214  2       182  \n",
              "3 N103US  1999 Fixed wing multi engine AIRBUS INDUSTRIE A320-214  2       182  \n",
              "4 N104UW  1999 Fixed wing multi engine AIRBUS INDUSTRIE A320-214  2       182  \n",
              "5 N10575  2002 Fixed wing multi engine EMBRAER          EMB-145LR 2        55  \n",
              "6 N105UW  1999 Fixed wing multi engine AIRBUS INDUSTRIE A320-214  2       182  \n",
              "  speed engine   \n",
              "1 NA    Turbo-fan\n",
              "2 NA    Turbo-fan\n",
              "3 NA    Turbo-fan\n",
              "4 NA    Turbo-fan\n",
              "5 NA    Turbo-fan\n",
              "6 NA    Turbo-fan"
            ]
          },
          "metadata": {}
        },
        {
          "output_type": "display_data",
          "data": {
            "text/html": [
              "<table class=\"dataframe\">\n",
              "<caption>A tibble: 6 × 15</caption>\n",
              "<thead>\n",
              "\t<tr><th scope=col>origin</th><th scope=col>year</th><th scope=col>month</th><th scope=col>day</th><th scope=col>hour</th><th scope=col>temp</th><th scope=col>dewp</th><th scope=col>humid</th><th scope=col>wind_dir</th><th scope=col>wind_speed</th><th scope=col>wind_gust</th><th scope=col>precip</th><th scope=col>pressure</th><th scope=col>visib</th><th scope=col>time_hour</th></tr>\n",
              "\t<tr><th scope=col>&lt;chr&gt;</th><th scope=col>&lt;int&gt;</th><th scope=col>&lt;int&gt;</th><th scope=col>&lt;int&gt;</th><th scope=col>&lt;int&gt;</th><th scope=col>&lt;dbl&gt;</th><th scope=col>&lt;dbl&gt;</th><th scope=col>&lt;dbl&gt;</th><th scope=col>&lt;dbl&gt;</th><th scope=col>&lt;dbl&gt;</th><th scope=col>&lt;dbl&gt;</th><th scope=col>&lt;dbl&gt;</th><th scope=col>&lt;dbl&gt;</th><th scope=col>&lt;dbl&gt;</th><th scope=col>&lt;dttm&gt;</th></tr>\n",
              "</thead>\n",
              "<tbody>\n",
              "\t<tr><td>EWR</td><td>2013</td><td>1</td><td>1</td><td>1</td><td>39.02</td><td>26.06</td><td>59.37</td><td>270</td><td>10.35702</td><td>NA</td><td>0</td><td>1012.0</td><td>10</td><td>2013-01-01 01:00:00</td></tr>\n",
              "\t<tr><td>EWR</td><td>2013</td><td>1</td><td>1</td><td>2</td><td>39.02</td><td>26.96</td><td>61.63</td><td>250</td><td> 8.05546</td><td>NA</td><td>0</td><td>1012.3</td><td>10</td><td>2013-01-01 02:00:00</td></tr>\n",
              "\t<tr><td>EWR</td><td>2013</td><td>1</td><td>1</td><td>3</td><td>39.02</td><td>28.04</td><td>64.43</td><td>240</td><td>11.50780</td><td>NA</td><td>0</td><td>1012.5</td><td>10</td><td>2013-01-01 03:00:00</td></tr>\n",
              "\t<tr><td>EWR</td><td>2013</td><td>1</td><td>1</td><td>4</td><td>39.92</td><td>28.04</td><td>62.21</td><td>250</td><td>12.65858</td><td>NA</td><td>0</td><td>1012.2</td><td>10</td><td>2013-01-01 04:00:00</td></tr>\n",
              "\t<tr><td>EWR</td><td>2013</td><td>1</td><td>1</td><td>5</td><td>39.02</td><td>28.04</td><td>64.43</td><td>260</td><td>12.65858</td><td>NA</td><td>0</td><td>1011.9</td><td>10</td><td>2013-01-01 05:00:00</td></tr>\n",
              "\t<tr><td>EWR</td><td>2013</td><td>1</td><td>1</td><td>6</td><td>37.94</td><td>28.04</td><td>67.21</td><td>240</td><td>11.50780</td><td>NA</td><td>0</td><td>1012.4</td><td>10</td><td>2013-01-01 06:00:00</td></tr>\n",
              "</tbody>\n",
              "</table>\n"
            ],
            "text/markdown": "\nA tibble: 6 × 15\n\n| origin &lt;chr&gt; | year &lt;int&gt; | month &lt;int&gt; | day &lt;int&gt; | hour &lt;int&gt; | temp &lt;dbl&gt; | dewp &lt;dbl&gt; | humid &lt;dbl&gt; | wind_dir &lt;dbl&gt; | wind_speed &lt;dbl&gt; | wind_gust &lt;dbl&gt; | precip &lt;dbl&gt; | pressure &lt;dbl&gt; | visib &lt;dbl&gt; | time_hour &lt;dttm&gt; |\n|---|---|---|---|---|---|---|---|---|---|---|---|---|---|---|\n| EWR | 2013 | 1 | 1 | 1 | 39.02 | 26.06 | 59.37 | 270 | 10.35702 | NA | 0 | 1012.0 | 10 | 2013-01-01 01:00:00 |\n| EWR | 2013 | 1 | 1 | 2 | 39.02 | 26.96 | 61.63 | 250 |  8.05546 | NA | 0 | 1012.3 | 10 | 2013-01-01 02:00:00 |\n| EWR | 2013 | 1 | 1 | 3 | 39.02 | 28.04 | 64.43 | 240 | 11.50780 | NA | 0 | 1012.5 | 10 | 2013-01-01 03:00:00 |\n| EWR | 2013 | 1 | 1 | 4 | 39.92 | 28.04 | 62.21 | 250 | 12.65858 | NA | 0 | 1012.2 | 10 | 2013-01-01 04:00:00 |\n| EWR | 2013 | 1 | 1 | 5 | 39.02 | 28.04 | 64.43 | 260 | 12.65858 | NA | 0 | 1011.9 | 10 | 2013-01-01 05:00:00 |\n| EWR | 2013 | 1 | 1 | 6 | 37.94 | 28.04 | 67.21 | 240 | 11.50780 | NA | 0 | 1012.4 | 10 | 2013-01-01 06:00:00 |\n\n",
            "text/latex": "A tibble: 6 × 15\n\\begin{tabular}{lllllllllllllll}\n origin & year & month & day & hour & temp & dewp & humid & wind\\_dir & wind\\_speed & wind\\_gust & precip & pressure & visib & time\\_hour\\\\\n <chr> & <int> & <int> & <int> & <int> & <dbl> & <dbl> & <dbl> & <dbl> & <dbl> & <dbl> & <dbl> & <dbl> & <dbl> & <dttm>\\\\\n\\hline\n\t EWR & 2013 & 1 & 1 & 1 & 39.02 & 26.06 & 59.37 & 270 & 10.35702 & NA & 0 & 1012.0 & 10 & 2013-01-01 01:00:00\\\\\n\t EWR & 2013 & 1 & 1 & 2 & 39.02 & 26.96 & 61.63 & 250 &  8.05546 & NA & 0 & 1012.3 & 10 & 2013-01-01 02:00:00\\\\\n\t EWR & 2013 & 1 & 1 & 3 & 39.02 & 28.04 & 64.43 & 240 & 11.50780 & NA & 0 & 1012.5 & 10 & 2013-01-01 03:00:00\\\\\n\t EWR & 2013 & 1 & 1 & 4 & 39.92 & 28.04 & 62.21 & 250 & 12.65858 & NA & 0 & 1012.2 & 10 & 2013-01-01 04:00:00\\\\\n\t EWR & 2013 & 1 & 1 & 5 & 39.02 & 28.04 & 64.43 & 260 & 12.65858 & NA & 0 & 1011.9 & 10 & 2013-01-01 05:00:00\\\\\n\t EWR & 2013 & 1 & 1 & 6 & 37.94 & 28.04 & 67.21 & 240 & 11.50780 & NA & 0 & 1012.4 & 10 & 2013-01-01 06:00:00\\\\\n\\end{tabular}\n",
            "text/plain": [
              "  origin year month day hour temp  dewp  humid wind_dir wind_speed wind_gust\n",
              "1 EWR    2013 1     1   1    39.02 26.06 59.37 270      10.35702   NA       \n",
              "2 EWR    2013 1     1   2    39.02 26.96 61.63 250       8.05546   NA       \n",
              "3 EWR    2013 1     1   3    39.02 28.04 64.43 240      11.50780   NA       \n",
              "4 EWR    2013 1     1   4    39.92 28.04 62.21 250      12.65858   NA       \n",
              "5 EWR    2013 1     1   5    39.02 28.04 64.43 260      12.65858   NA       \n",
              "6 EWR    2013 1     1   6    37.94 28.04 67.21 240      11.50780   NA       \n",
              "  precip pressure visib time_hour          \n",
              "1 0      1012.0   10    2013-01-01 01:00:00\n",
              "2 0      1012.3   10    2013-01-01 02:00:00\n",
              "3 0      1012.5   10    2013-01-01 03:00:00\n",
              "4 0      1012.2   10    2013-01-01 04:00:00\n",
              "5 0      1011.9   10    2013-01-01 05:00:00\n",
              "6 0      1012.4   10    2013-01-01 06:00:00"
            ]
          },
          "metadata": {}
        }
      ]
    },
    {
      "cell_type": "markdown",
      "source": [
        "# Q1 : which carrier had most flights in March 2013\n"
      ],
      "metadata": {
        "id": "ZeH5LwPI908C"
      }
    },
    {
      "cell_type": "code",
      "source": [
        "result1 <- flights %>%\n",
        "    filter(year == 2013, month == 3) %>%\n",
        "    count(carrier) %>%\n",
        "    arrange(desc(n)) %>%\n",
        "    left_join(airlines, by = \"carrier\" ) %>%\n",
        "    head(5)\n",
        "\n",
        "View(result1)"
      ],
      "metadata": {
        "colab": {
          "base_uri": "https://localhost:8080/",
          "height": 255
        },
        "id": "cGjg-rbl-Obh",
        "outputId": "3ad51ae8-6067-45ac-a515-93e2e373c81e"
      },
      "execution_count": null,
      "outputs": [
        {
          "output_type": "display_data",
          "data": {
            "text/plain": [
              "  carrier n    name                    \n",
              "1 UA      4971 United Air Lines Inc.   \n",
              "2 B6      4772 JetBlue Airways         \n",
              "3 EV      4726 ExpressJet Airlines Inc.\n",
              "4 DL      4189 Delta Air Lines Inc.    \n",
              "5 AA      2787 American Airlines Inc.  "
            ],
            "text/html": [
              "<table class=\"dataframe\">\n",
              "<caption>A tibble: 5 × 3</caption>\n",
              "<thead>\n",
              "\t<tr><th scope=col>carrier</th><th scope=col>n</th><th scope=col>name</th></tr>\n",
              "\t<tr><th scope=col>&lt;chr&gt;</th><th scope=col>&lt;int&gt;</th><th scope=col>&lt;chr&gt;</th></tr>\n",
              "</thead>\n",
              "<tbody>\n",
              "\t<tr><td>UA</td><td>4971</td><td>United Air Lines Inc.   </td></tr>\n",
              "\t<tr><td>B6</td><td>4772</td><td>JetBlue Airways         </td></tr>\n",
              "\t<tr><td>EV</td><td>4726</td><td>ExpressJet Airlines Inc.</td></tr>\n",
              "\t<tr><td>DL</td><td>4189</td><td>Delta Air Lines Inc.    </td></tr>\n",
              "\t<tr><td>AA</td><td>2787</td><td>American Airlines Inc.  </td></tr>\n",
              "</tbody>\n",
              "</table>\n"
            ],
            "text/markdown": "\nA tibble: 5 × 3\n\n| carrier &lt;chr&gt; | n &lt;int&gt; | name &lt;chr&gt; |\n|---|---|---|\n| UA | 4971 | United Air Lines Inc.    |\n| B6 | 4772 | JetBlue Airways          |\n| EV | 4726 | ExpressJet Airlines Inc. |\n| DL | 4189 | Delta Air Lines Inc.     |\n| AA | 2787 | American Airlines Inc.   |\n\n",
            "text/latex": "A tibble: 5 × 3\n\\begin{tabular}{lll}\n carrier & n & name\\\\\n <chr> & <int> & <chr>\\\\\n\\hline\n\t UA & 4971 & United Air Lines Inc.   \\\\\n\t B6 & 4772 & JetBlue Airways         \\\\\n\t EV & 4726 & ExpressJet Airlines Inc.\\\\\n\t DL & 4189 & Delta Air Lines Inc.    \\\\\n\t AA & 2787 & American Airlines Inc.  \\\\\n\\end{tabular}\n"
          },
          "metadata": {}
        }
      ]
    },
    {
      "cell_type": "markdown",
      "source": [
        "# Q2 : which airport had most arrival flights in March 2013\n"
      ],
      "metadata": {
        "id": "61iwozMD-eqf"
      }
    },
    {
      "cell_type": "code",
      "source": [
        "result2 <- flights %>%\n",
        "    filter(year == 2013, month == 3) %>%\n",
        "    count(dest) %>%\n",
        "    arrange(desc(n)) %>%\n",
        "    inner_join(airports, by = c(\"dest\" = \"faa\")) %>%\n",
        "    select(dest, n, name) %>%\n",
        "    head(5)\n",
        "\n",
        "View(result2)"
      ],
      "metadata": {
        "colab": {
          "base_uri": "https://localhost:8080/",
          "height": 255
        },
        "id": "ze2kvtS4-bPD",
        "outputId": "eb5ddb8c-d17c-4126-bdae-9892ef4e0107"
      },
      "execution_count": null,
      "outputs": [
        {
          "output_type": "display_data",
          "data": {
            "text/plain": [
              "  dest n    name                              \n",
              "1 ATL  1448 Hartsfield Jackson Atlanta Intl   \n",
              "2 ORD  1343 Chicago Ohare Intl                \n",
              "3 BOS  1324 General Edward Lawrence Logan Intl\n",
              "4 MCO  1265 Orlando Intl                      \n",
              "5 FLL  1238 Fort Lauderdale Hollywood Intl    "
            ],
            "text/html": [
              "<table class=\"dataframe\">\n",
              "<caption>A tibble: 5 × 3</caption>\n",
              "<thead>\n",
              "\t<tr><th scope=col>dest</th><th scope=col>n</th><th scope=col>name</th></tr>\n",
              "\t<tr><th scope=col>&lt;chr&gt;</th><th scope=col>&lt;int&gt;</th><th scope=col>&lt;chr&gt;</th></tr>\n",
              "</thead>\n",
              "<tbody>\n",
              "\t<tr><td>ATL</td><td>1448</td><td>Hartsfield Jackson Atlanta Intl   </td></tr>\n",
              "\t<tr><td>ORD</td><td>1343</td><td>Chicago Ohare Intl                </td></tr>\n",
              "\t<tr><td>BOS</td><td>1324</td><td>General Edward Lawrence Logan Intl</td></tr>\n",
              "\t<tr><td>MCO</td><td>1265</td><td>Orlando Intl                      </td></tr>\n",
              "\t<tr><td>FLL</td><td>1238</td><td>Fort Lauderdale Hollywood Intl    </td></tr>\n",
              "</tbody>\n",
              "</table>\n"
            ],
            "text/markdown": "\nA tibble: 5 × 3\n\n| dest &lt;chr&gt; | n &lt;int&gt; | name &lt;chr&gt; |\n|---|---|---|\n| ATL | 1448 | Hartsfield Jackson Atlanta Intl    |\n| ORD | 1343 | Chicago Ohare Intl                 |\n| BOS | 1324 | General Edward Lawrence Logan Intl |\n| MCO | 1265 | Orlando Intl                       |\n| FLL | 1238 | Fort Lauderdale Hollywood Intl     |\n\n",
            "text/latex": "A tibble: 5 × 3\n\\begin{tabular}{lll}\n dest & n & name\\\\\n <chr> & <int> & <chr>\\\\\n\\hline\n\t ATL & 1448 & Hartsfield Jackson Atlanta Intl   \\\\\n\t ORD & 1343 & Chicago Ohare Intl                \\\\\n\t BOS & 1324 & General Edward Lawrence Logan Intl\\\\\n\t MCO & 1265 & Orlando Intl                      \\\\\n\t FLL & 1238 & Fort Lauderdale Hollywood Intl    \\\\\n\\end{tabular}\n"
          },
          "metadata": {}
        }
      ]
    },
    {
      "cell_type": "markdown",
      "source": [
        "# Q3 : which carrier has most flights to LAX in March 2013"
      ],
      "metadata": {
        "id": "kW6GuoCt-0Lf"
      }
    },
    {
      "cell_type": "code",
      "source": [
        "result3 <- flights %>%\n",
        "    filter(year == 2013, month == 3, dest == \"LAX\") %>%\n",
        "    count(carrier) %>%\n",
        "    arrange(desc(n)) %>%\n",
        "    left_join(airlines, by = \"carrier\" ) %>%\n",
        "    head(5)\n",
        "\n",
        "View(result3)"
      ],
      "metadata": {
        "colab": {
          "base_uri": "https://localhost:8080/",
          "height": 255
        },
        "id": "1ke5zhHI-uJR",
        "outputId": "07431b03-0a53-492b-f5fe-e162096e60f8"
      },
      "execution_count": null,
      "outputs": [
        {
          "output_type": "display_data",
          "data": {
            "text/plain": [
              "  carrier n   name                  \n",
              "1 UA      363 United Air Lines Inc. \n",
              "2 AA      305 American Airlines Inc.\n",
              "3 DL      238 Delta Air Lines Inc.  \n",
              "4 VX      153 Virgin America        \n",
              "5 B6      119 JetBlue Airways       "
            ],
            "text/html": [
              "<table class=\"dataframe\">\n",
              "<caption>A tibble: 5 × 3</caption>\n",
              "<thead>\n",
              "\t<tr><th scope=col>carrier</th><th scope=col>n</th><th scope=col>name</th></tr>\n",
              "\t<tr><th scope=col>&lt;chr&gt;</th><th scope=col>&lt;int&gt;</th><th scope=col>&lt;chr&gt;</th></tr>\n",
              "</thead>\n",
              "<tbody>\n",
              "\t<tr><td>UA</td><td>363</td><td>United Air Lines Inc. </td></tr>\n",
              "\t<tr><td>AA</td><td>305</td><td>American Airlines Inc.</td></tr>\n",
              "\t<tr><td>DL</td><td>238</td><td>Delta Air Lines Inc.  </td></tr>\n",
              "\t<tr><td>VX</td><td>153</td><td>Virgin America        </td></tr>\n",
              "\t<tr><td>B6</td><td>119</td><td>JetBlue Airways       </td></tr>\n",
              "</tbody>\n",
              "</table>\n"
            ],
            "text/markdown": "\nA tibble: 5 × 3\n\n| carrier &lt;chr&gt; | n &lt;int&gt; | name &lt;chr&gt; |\n|---|---|---|\n| UA | 363 | United Air Lines Inc.  |\n| AA | 305 | American Airlines Inc. |\n| DL | 238 | Delta Air Lines Inc.   |\n| VX | 153 | Virgin America         |\n| B6 | 119 | JetBlue Airways        |\n\n",
            "text/latex": "A tibble: 5 × 3\n\\begin{tabular}{lll}\n carrier & n & name\\\\\n <chr> & <int> & <chr>\\\\\n\\hline\n\t UA & 363 & United Air Lines Inc. \\\\\n\t AA & 305 & American Airlines Inc.\\\\\n\t DL & 238 & Delta Air Lines Inc.  \\\\\n\t VX & 153 & Virgin America        \\\\\n\t B6 & 119 & JetBlue Airways       \\\\\n\\end{tabular}\n"
          },
          "metadata": {}
        }
      ]
    },
    {
      "cell_type": "markdown",
      "source": [
        "# Q4 : which plane manufacturer had most flights since 2013\n"
      ],
      "metadata": {
        "id": "nSDFEm5s_6rx"
      }
    },
    {
      "cell_type": "code",
      "source": [
        "popular <- flights %>%\n",
        "    filter(year >= 2013) %>%\n",
        "    count(tailnum) %>%\n",
        "    inner_join(planes, by = \"tailnum\") %>%\n",
        "    select(tailnum, n, manufacturer)\n",
        "\n",
        "result4 <- aggregate(popular$n, by = list(manufacturer = popular$manufacturer), sum) %>%\n",
        "    rename(count_flights = x) %>%\n",
        "    arrange(desc(count_flights)) %>%\n",
        "    head(5)\n",
        "\n",
        "View(result4)"
      ],
      "metadata": {
        "colab": {
          "base_uri": "https://localhost:8080/",
          "height": 255
        },
        "id": "iqX3i3WIAGF9",
        "outputId": "736b7a8c-576b-4f5f-9294-d6540c0728b1"
      },
      "execution_count": null,
      "outputs": [
        {
          "output_type": "display_data",
          "data": {
            "text/plain": [
              "  manufacturer     count_flights\n",
              "1 BOEING           82912        \n",
              "2 EMBRAER          66068        \n",
              "3 AIRBUS           47302        \n",
              "4 AIRBUS INDUSTRIE 40891        \n",
              "5 BOMBARDIER INC   28272        "
            ],
            "text/html": [
              "<table class=\"dataframe\">\n",
              "<caption>A data.frame: 5 × 2</caption>\n",
              "<thead>\n",
              "\t<tr><th></th><th scope=col>manufacturer</th><th scope=col>count_flights</th></tr>\n",
              "\t<tr><th></th><th scope=col>&lt;chr&gt;</th><th scope=col>&lt;int&gt;</th></tr>\n",
              "</thead>\n",
              "<tbody>\n",
              "\t<tr><th scope=row>1</th><td>BOEING          </td><td>82912</td></tr>\n",
              "\t<tr><th scope=row>2</th><td>EMBRAER         </td><td>66068</td></tr>\n",
              "\t<tr><th scope=row>3</th><td>AIRBUS          </td><td>47302</td></tr>\n",
              "\t<tr><th scope=row>4</th><td>AIRBUS INDUSTRIE</td><td>40891</td></tr>\n",
              "\t<tr><th scope=row>5</th><td>BOMBARDIER INC  </td><td>28272</td></tr>\n",
              "</tbody>\n",
              "</table>\n"
            ],
            "text/markdown": "\nA data.frame: 5 × 2\n\n| <!--/--> | manufacturer &lt;chr&gt; | count_flights &lt;int&gt; |\n|---|---|---|\n| 1 | BOEING           | 82912 |\n| 2 | EMBRAER          | 66068 |\n| 3 | AIRBUS           | 47302 |\n| 4 | AIRBUS INDUSTRIE | 40891 |\n| 5 | BOMBARDIER INC   | 28272 |\n\n",
            "text/latex": "A data.frame: 5 × 2\n\\begin{tabular}{r|ll}\n  & manufacturer & count\\_flights\\\\\n  & <chr> & <int>\\\\\n\\hline\n\t1 & BOEING           & 82912\\\\\n\t2 & EMBRAER          & 66068\\\\\n\t3 & AIRBUS           & 47302\\\\\n\t4 & AIRBUS INDUSTRIE & 40891\\\\\n\t5 & BOMBARDIER INC   & 28272\\\\\n\\end{tabular}\n"
          },
          "metadata": {}
        }
      ]
    }
  ]
}